{
 "cells": [
  {
   "cell_type": "markdown",
   "id": "d8aca6b6-1211-40d9-b0f1-08daa2a4caa9",
   "metadata": {},
   "source": [
    "# House pricing regression using multilayer perceptron in pytorch\n",
    "\n",
    "The goal of the project is to create a model for predicting housing prices based on boston housing prices dataset.\n",
    "This is losely based on chapter 4.10 in dive to deep learning book.\n",
    "\n",
    "We will also compare performance of our classifier to performance of SVR and linear regressor (provided by sklearn).\n",
    "\n",
    "This is supposed to be a quick project so don't expect any fancy data preparation techniques or any tricks."
   ]
  },
  {
   "cell_type": "code",
   "execution_count": 1,
   "id": "b350f83f-4dfa-4630-bc0e-b003d0637c34",
   "metadata": {},
   "outputs": [
    {
     "data": {
      "text/plain": [
       "'cuda'"
      ]
     },
     "execution_count": 1,
     "metadata": {},
     "output_type": "execute_result"
    }
   ],
   "source": [
    "%matplotlib inline\n",
    "import matplotlib.pyplot as plt\n",
    "import pandas as pd\n",
    "import numpy as np\n",
    "import seaborn as sns\n",
    "import torch.nn.functional as torch_fun\n",
    "import torch\n",
    "from torch import nn\n",
    "from torch.utils import data\n",
    "from torchsummary import summary\n",
    "from pandas.plotting import scatter_matrix\n",
    "from sklearn.model_selection import train_test_split\n",
    "from sklearn.preprocessing import StandardScaler\n",
    "from sklearn.svm import SVR\n",
    "from sklearn.linear_model import LinearRegression\n",
    "\n",
    "device = \"cuda\" if torch.cuda.is_available() else \"cpu\"\n",
    "device"
   ]
  },
  {
   "cell_type": "markdown",
   "id": "741302c7-c18f-4709-9919-e38e3c98d1f8",
   "metadata": {},
   "source": [
    "## Dataset preparation\n",
    "\n",
    "First let's load and prepare dataset for training."
   ]
  },
  {
   "cell_type": "code",
   "execution_count": 2,
   "id": "8329ac46-283e-495f-92c0-3d9358da3e5f",
   "metadata": {},
   "outputs": [],
   "source": [
    "header = [\"CRIM\", \"ZN\", \"INDUS\", \"CHAS\", \"NOX\", \n",
    "           \"RM\", \"AGE\", \"DIS\", \"RAD\", \"TAX\", \"PTRATIO\",\n",
    "           \"B\",\"LSTAT\",\"PRICE\"]\n",
    "\n",
    "house_dataset = pd.read_csv(\"housing.csv\", delimiter=\"\\s+\",\n",
    "                            names=header)\n"
   ]
  },
  {
   "cell_type": "code",
   "execution_count": 3,
   "id": "cf11975c-47d2-493e-83a5-0fbbf6e3365b",
   "metadata": {},
   "outputs": [
    {
     "data": {
      "text/html": [
       "<div>\n",
       "<style scoped>\n",
       "    .dataframe tbody tr th:only-of-type {\n",
       "        vertical-align: middle;\n",
       "    }\n",
       "\n",
       "    .dataframe tbody tr th {\n",
       "        vertical-align: top;\n",
       "    }\n",
       "\n",
       "    .dataframe thead th {\n",
       "        text-align: right;\n",
       "    }\n",
       "</style>\n",
       "<table border=\"1\" class=\"dataframe\">\n",
       "  <thead>\n",
       "    <tr style=\"text-align: right;\">\n",
       "      <th></th>\n",
       "      <th>CRIM</th>\n",
       "      <th>ZN</th>\n",
       "      <th>INDUS</th>\n",
       "      <th>CHAS</th>\n",
       "      <th>NOX</th>\n",
       "      <th>RM</th>\n",
       "      <th>AGE</th>\n",
       "      <th>DIS</th>\n",
       "      <th>RAD</th>\n",
       "      <th>TAX</th>\n",
       "      <th>PTRATIO</th>\n",
       "      <th>B</th>\n",
       "      <th>LSTAT</th>\n",
       "      <th>PRICE</th>\n",
       "    </tr>\n",
       "  </thead>\n",
       "  <tbody>\n",
       "    <tr>\n",
       "      <th>0</th>\n",
       "      <td>0.00632</td>\n",
       "      <td>18.0</td>\n",
       "      <td>2.31</td>\n",
       "      <td>0</td>\n",
       "      <td>0.538</td>\n",
       "      <td>6.575</td>\n",
       "      <td>65.2</td>\n",
       "      <td>4.0900</td>\n",
       "      <td>1</td>\n",
       "      <td>296.0</td>\n",
       "      <td>15.3</td>\n",
       "      <td>396.90</td>\n",
       "      <td>4.98</td>\n",
       "      <td>24.0</td>\n",
       "    </tr>\n",
       "    <tr>\n",
       "      <th>1</th>\n",
       "      <td>0.02731</td>\n",
       "      <td>0.0</td>\n",
       "      <td>7.07</td>\n",
       "      <td>0</td>\n",
       "      <td>0.469</td>\n",
       "      <td>6.421</td>\n",
       "      <td>78.9</td>\n",
       "      <td>4.9671</td>\n",
       "      <td>2</td>\n",
       "      <td>242.0</td>\n",
       "      <td>17.8</td>\n",
       "      <td>396.90</td>\n",
       "      <td>9.14</td>\n",
       "      <td>21.6</td>\n",
       "    </tr>\n",
       "    <tr>\n",
       "      <th>2</th>\n",
       "      <td>0.02729</td>\n",
       "      <td>0.0</td>\n",
       "      <td>7.07</td>\n",
       "      <td>0</td>\n",
       "      <td>0.469</td>\n",
       "      <td>7.185</td>\n",
       "      <td>61.1</td>\n",
       "      <td>4.9671</td>\n",
       "      <td>2</td>\n",
       "      <td>242.0</td>\n",
       "      <td>17.8</td>\n",
       "      <td>392.83</td>\n",
       "      <td>4.03</td>\n",
       "      <td>34.7</td>\n",
       "    </tr>\n",
       "    <tr>\n",
       "      <th>3</th>\n",
       "      <td>0.03237</td>\n",
       "      <td>0.0</td>\n",
       "      <td>2.18</td>\n",
       "      <td>0</td>\n",
       "      <td>0.458</td>\n",
       "      <td>6.998</td>\n",
       "      <td>45.8</td>\n",
       "      <td>6.0622</td>\n",
       "      <td>3</td>\n",
       "      <td>222.0</td>\n",
       "      <td>18.7</td>\n",
       "      <td>394.63</td>\n",
       "      <td>2.94</td>\n",
       "      <td>33.4</td>\n",
       "    </tr>\n",
       "    <tr>\n",
       "      <th>4</th>\n",
       "      <td>0.06905</td>\n",
       "      <td>0.0</td>\n",
       "      <td>2.18</td>\n",
       "      <td>0</td>\n",
       "      <td>0.458</td>\n",
       "      <td>7.147</td>\n",
       "      <td>54.2</td>\n",
       "      <td>6.0622</td>\n",
       "      <td>3</td>\n",
       "      <td>222.0</td>\n",
       "      <td>18.7</td>\n",
       "      <td>396.90</td>\n",
       "      <td>5.33</td>\n",
       "      <td>36.2</td>\n",
       "    </tr>\n",
       "  </tbody>\n",
       "</table>\n",
       "</div>"
      ],
      "text/plain": [
       "      CRIM    ZN  INDUS  CHAS    NOX     RM   AGE     DIS  RAD    TAX  \\\n",
       "0  0.00632  18.0   2.31     0  0.538  6.575  65.2  4.0900    1  296.0   \n",
       "1  0.02731   0.0   7.07     0  0.469  6.421  78.9  4.9671    2  242.0   \n",
       "2  0.02729   0.0   7.07     0  0.469  7.185  61.1  4.9671    2  242.0   \n",
       "3  0.03237   0.0   2.18     0  0.458  6.998  45.8  6.0622    3  222.0   \n",
       "4  0.06905   0.0   2.18     0  0.458  7.147  54.2  6.0622    3  222.0   \n",
       "\n",
       "   PTRATIO       B  LSTAT  PRICE  \n",
       "0     15.3  396.90   4.98   24.0  \n",
       "1     17.8  396.90   9.14   21.6  \n",
       "2     17.8  392.83   4.03   34.7  \n",
       "3     18.7  394.63   2.94   33.4  \n",
       "4     18.7  396.90   5.33   36.2  "
      ]
     },
     "execution_count": 3,
     "metadata": {},
     "output_type": "execute_result"
    }
   ],
   "source": [
    "house_dataset.head()"
   ]
  },
  {
   "cell_type": "code",
   "execution_count": 4,
   "id": "0c80cecb-53c5-4bb4-b46b-bddb4b8a7af7",
   "metadata": {},
   "outputs": [
    {
     "name": "stdout",
     "output_type": "stream",
     "text": [
      "<class 'pandas.core.frame.DataFrame'>\n",
      "RangeIndex: 506 entries, 0 to 505\n",
      "Data columns (total 14 columns):\n",
      " #   Column   Non-Null Count  Dtype  \n",
      "---  ------   --------------  -----  \n",
      " 0   CRIM     506 non-null    float64\n",
      " 1   ZN       506 non-null    float64\n",
      " 2   INDUS    506 non-null    float64\n",
      " 3   CHAS     506 non-null    int64  \n",
      " 4   NOX      506 non-null    float64\n",
      " 5   RM       506 non-null    float64\n",
      " 6   AGE      506 non-null    float64\n",
      " 7   DIS      506 non-null    float64\n",
      " 8   RAD      506 non-null    int64  \n",
      " 9   TAX      506 non-null    float64\n",
      " 10  PTRATIO  506 non-null    float64\n",
      " 11  B        506 non-null    float64\n",
      " 12  LSTAT    506 non-null    float64\n",
      " 13  PRICE    506 non-null    float64\n",
      "dtypes: float64(12), int64(2)\n",
      "memory usage: 55.5 KB\n"
     ]
    }
   ],
   "source": [
    "house_dataset.info()"
   ]
  },
  {
   "cell_type": "markdown",
   "id": "faa025c6-89c2-4ff6-9194-e05b5c47b930",
   "metadata": {},
   "source": [
    "Here are the following fields:\n",
    "\n",
    " - CRIM: Crime rate per capita crime rate by town.\n",
    " - ZN: proportion of residential land zoned for lots over 25,000 sq.ft.\n",
    " - INDUS: proportion of non-retail business acres per town\n",
    " - CHAS: Charles River dummy variable (= 1 if tract bounds river; 0 otherwise)\n",
    " - NOX: nitric oxides concentration (parts per 10 million)\n",
    " - RM: average number of rooms per dwelling\n",
    " - AGE: proportion of owner-occupied units built prior to 1940\n",
    " - DIS: weighted distances to ﬁve Boston employment centers\n",
    " - RAD: index of accessibility to radial highways\n",
    " - TAX: full-value property-tax rate per 10,000 dollars\n",
    " - PTRATIO: pupil-teacher ratio by town\n",
    " - B: 1000(Bk−0.63)2 where Bk is the proportion of blacks by town \n",
    " - LSTAT: % of lower status of the population\n",
    " - PRICE: Median value of owner-occupied homes in 1000s of dollars\n",
    " \n",
    " We are trying to predict price based other parameters."
   ]
  },
  {
   "cell_type": "code",
   "execution_count": 5,
   "id": "99914082-0551-4d13-a508-92adbc99875d",
   "metadata": {},
   "outputs": [
    {
     "data": {
      "text/html": [
       "<div>\n",
       "<style scoped>\n",
       "    .dataframe tbody tr th:only-of-type {\n",
       "        vertical-align: middle;\n",
       "    }\n",
       "\n",
       "    .dataframe tbody tr th {\n",
       "        vertical-align: top;\n",
       "    }\n",
       "\n",
       "    .dataframe thead th {\n",
       "        text-align: right;\n",
       "    }\n",
       "</style>\n",
       "<table border=\"1\" class=\"dataframe\">\n",
       "  <thead>\n",
       "    <tr style=\"text-align: right;\">\n",
       "      <th></th>\n",
       "      <th>CRIM</th>\n",
       "      <th>ZN</th>\n",
       "      <th>INDUS</th>\n",
       "      <th>CHAS</th>\n",
       "      <th>NOX</th>\n",
       "      <th>RM</th>\n",
       "      <th>AGE</th>\n",
       "      <th>DIS</th>\n",
       "      <th>RAD</th>\n",
       "      <th>TAX</th>\n",
       "      <th>PTRATIO</th>\n",
       "      <th>B</th>\n",
       "      <th>LSTAT</th>\n",
       "      <th>PRICE</th>\n",
       "    </tr>\n",
       "  </thead>\n",
       "  <tbody>\n",
       "    <tr>\n",
       "      <th>count</th>\n",
       "      <td>506.000000</td>\n",
       "      <td>506.000000</td>\n",
       "      <td>506.000000</td>\n",
       "      <td>506.000000</td>\n",
       "      <td>506.000000</td>\n",
       "      <td>506.000000</td>\n",
       "      <td>506.000000</td>\n",
       "      <td>506.000000</td>\n",
       "      <td>506.000000</td>\n",
       "      <td>506.000000</td>\n",
       "      <td>506.000000</td>\n",
       "      <td>506.000000</td>\n",
       "      <td>506.000000</td>\n",
       "      <td>506.000000</td>\n",
       "    </tr>\n",
       "    <tr>\n",
       "      <th>mean</th>\n",
       "      <td>3.613524</td>\n",
       "      <td>11.363636</td>\n",
       "      <td>11.136779</td>\n",
       "      <td>0.069170</td>\n",
       "      <td>0.554695</td>\n",
       "      <td>6.284634</td>\n",
       "      <td>68.574901</td>\n",
       "      <td>3.795043</td>\n",
       "      <td>9.549407</td>\n",
       "      <td>408.237154</td>\n",
       "      <td>18.455534</td>\n",
       "      <td>356.674032</td>\n",
       "      <td>12.653063</td>\n",
       "      <td>22.532806</td>\n",
       "    </tr>\n",
       "    <tr>\n",
       "      <th>std</th>\n",
       "      <td>8.601545</td>\n",
       "      <td>23.322453</td>\n",
       "      <td>6.860353</td>\n",
       "      <td>0.253994</td>\n",
       "      <td>0.115878</td>\n",
       "      <td>0.702617</td>\n",
       "      <td>28.148861</td>\n",
       "      <td>2.105710</td>\n",
       "      <td>8.707259</td>\n",
       "      <td>168.537116</td>\n",
       "      <td>2.164946</td>\n",
       "      <td>91.294864</td>\n",
       "      <td>7.141062</td>\n",
       "      <td>9.197104</td>\n",
       "    </tr>\n",
       "    <tr>\n",
       "      <th>min</th>\n",
       "      <td>0.006320</td>\n",
       "      <td>0.000000</td>\n",
       "      <td>0.460000</td>\n",
       "      <td>0.000000</td>\n",
       "      <td>0.385000</td>\n",
       "      <td>3.561000</td>\n",
       "      <td>2.900000</td>\n",
       "      <td>1.129600</td>\n",
       "      <td>1.000000</td>\n",
       "      <td>187.000000</td>\n",
       "      <td>12.600000</td>\n",
       "      <td>0.320000</td>\n",
       "      <td>1.730000</td>\n",
       "      <td>5.000000</td>\n",
       "    </tr>\n",
       "    <tr>\n",
       "      <th>25%</th>\n",
       "      <td>0.082045</td>\n",
       "      <td>0.000000</td>\n",
       "      <td>5.190000</td>\n",
       "      <td>0.000000</td>\n",
       "      <td>0.449000</td>\n",
       "      <td>5.885500</td>\n",
       "      <td>45.025000</td>\n",
       "      <td>2.100175</td>\n",
       "      <td>4.000000</td>\n",
       "      <td>279.000000</td>\n",
       "      <td>17.400000</td>\n",
       "      <td>375.377500</td>\n",
       "      <td>6.950000</td>\n",
       "      <td>17.025000</td>\n",
       "    </tr>\n",
       "    <tr>\n",
       "      <th>50%</th>\n",
       "      <td>0.256510</td>\n",
       "      <td>0.000000</td>\n",
       "      <td>9.690000</td>\n",
       "      <td>0.000000</td>\n",
       "      <td>0.538000</td>\n",
       "      <td>6.208500</td>\n",
       "      <td>77.500000</td>\n",
       "      <td>3.207450</td>\n",
       "      <td>5.000000</td>\n",
       "      <td>330.000000</td>\n",
       "      <td>19.050000</td>\n",
       "      <td>391.440000</td>\n",
       "      <td>11.360000</td>\n",
       "      <td>21.200000</td>\n",
       "    </tr>\n",
       "    <tr>\n",
       "      <th>75%</th>\n",
       "      <td>3.677083</td>\n",
       "      <td>12.500000</td>\n",
       "      <td>18.100000</td>\n",
       "      <td>0.000000</td>\n",
       "      <td>0.624000</td>\n",
       "      <td>6.623500</td>\n",
       "      <td>94.075000</td>\n",
       "      <td>5.188425</td>\n",
       "      <td>24.000000</td>\n",
       "      <td>666.000000</td>\n",
       "      <td>20.200000</td>\n",
       "      <td>396.225000</td>\n",
       "      <td>16.955000</td>\n",
       "      <td>25.000000</td>\n",
       "    </tr>\n",
       "    <tr>\n",
       "      <th>max</th>\n",
       "      <td>88.976200</td>\n",
       "      <td>100.000000</td>\n",
       "      <td>27.740000</td>\n",
       "      <td>1.000000</td>\n",
       "      <td>0.871000</td>\n",
       "      <td>8.780000</td>\n",
       "      <td>100.000000</td>\n",
       "      <td>12.126500</td>\n",
       "      <td>24.000000</td>\n",
       "      <td>711.000000</td>\n",
       "      <td>22.000000</td>\n",
       "      <td>396.900000</td>\n",
       "      <td>37.970000</td>\n",
       "      <td>50.000000</td>\n",
       "    </tr>\n",
       "  </tbody>\n",
       "</table>\n",
       "</div>"
      ],
      "text/plain": [
       "             CRIM          ZN       INDUS        CHAS         NOX          RM  \\\n",
       "count  506.000000  506.000000  506.000000  506.000000  506.000000  506.000000   \n",
       "mean     3.613524   11.363636   11.136779    0.069170    0.554695    6.284634   \n",
       "std      8.601545   23.322453    6.860353    0.253994    0.115878    0.702617   \n",
       "min      0.006320    0.000000    0.460000    0.000000    0.385000    3.561000   \n",
       "25%      0.082045    0.000000    5.190000    0.000000    0.449000    5.885500   \n",
       "50%      0.256510    0.000000    9.690000    0.000000    0.538000    6.208500   \n",
       "75%      3.677083   12.500000   18.100000    0.000000    0.624000    6.623500   \n",
       "max     88.976200  100.000000   27.740000    1.000000    0.871000    8.780000   \n",
       "\n",
       "              AGE         DIS         RAD         TAX     PTRATIO           B  \\\n",
       "count  506.000000  506.000000  506.000000  506.000000  506.000000  506.000000   \n",
       "mean    68.574901    3.795043    9.549407  408.237154   18.455534  356.674032   \n",
       "std     28.148861    2.105710    8.707259  168.537116    2.164946   91.294864   \n",
       "min      2.900000    1.129600    1.000000  187.000000   12.600000    0.320000   \n",
       "25%     45.025000    2.100175    4.000000  279.000000   17.400000  375.377500   \n",
       "50%     77.500000    3.207450    5.000000  330.000000   19.050000  391.440000   \n",
       "75%     94.075000    5.188425   24.000000  666.000000   20.200000  396.225000   \n",
       "max    100.000000   12.126500   24.000000  711.000000   22.000000  396.900000   \n",
       "\n",
       "            LSTAT       PRICE  \n",
       "count  506.000000  506.000000  \n",
       "mean    12.653063   22.532806  \n",
       "std      7.141062    9.197104  \n",
       "min      1.730000    5.000000  \n",
       "25%      6.950000   17.025000  \n",
       "50%     11.360000   21.200000  \n",
       "75%     16.955000   25.000000  \n",
       "max     37.970000   50.000000  "
      ]
     },
     "execution_count": 5,
     "metadata": {},
     "output_type": "execute_result"
    }
   ],
   "source": [
    "house_dataset.describe()"
   ]
  },
  {
   "cell_type": "code",
   "execution_count": 6,
   "id": "5b9807fa-0db3-4c19-a0a1-96b43cb4964c",
   "metadata": {},
   "outputs": [
    {
     "data": {
      "image/png": "[encoded data removed]",
      "text/plain": [
       "<Figure size 1440x1080 with 16 Axes>"
      ]
     },
     "metadata": {
      "needs_background": "light"
     },
     "output_type": "display_data"
    }
   ],
   "source": [
    "_ = house_dataset.hist(bins=50, figsize=(20,15))"
   ]
  },
  {
   "cell_type": "markdown",
   "id": "ba0b5750-d21e-4821-892c-e1e796b94b6c",
   "metadata": {},
   "source": [
    "Unfortunately they are quite a lot of outliers and dataset is quite small.\n",
    "\n",
    "Let's first split set into training and test set (30%, 60%)."
   ]
  },
  {
   "cell_type": "code",
   "execution_count": 7,
   "id": "4914962c-a2f0-4421-a853-4f0fd82732b1",
   "metadata": {},
   "outputs": [],
   "source": [
    "train_df, test_df = train_test_split(house_dataset, test_size=0.3) "
   ]
  },
  {
   "cell_type": "code",
   "execution_count": 8,
   "id": "ce598590-f049-41f1-8c14-bfd38d79c66c",
   "metadata": {},
   "outputs": [
    {
     "name": "stdout",
     "output_type": "stream",
     "text": [
      "<class 'pandas.core.frame.DataFrame'>\n",
      "Int64Index: 354 entries, 138 to 230\n",
      "Data columns (total 14 columns):\n",
      " #   Column   Non-Null Count  Dtype  \n",
      "---  ------   --------------  -----  \n",
      " 0   CRIM     354 non-null    float64\n",
      " 1   ZN       354 non-null    float64\n",
      " 2   INDUS    354 non-null    float64\n",
      " 3   CHAS     354 non-null    int64  \n",
      " 4   NOX      354 non-null    float64\n",
      " 5   RM       354 non-null    float64\n",
      " 6   AGE      354 non-null    float64\n",
      " 7   DIS      354 non-null    float64\n",
      " 8   RAD      354 non-null    int64  \n",
      " 9   TAX      354 non-null    float64\n",
      " 10  PTRATIO  354 non-null    float64\n",
      " 11  B        354 non-null    float64\n",
      " 12  LSTAT    354 non-null    float64\n",
      " 13  PRICE    354 non-null    float64\n",
      "dtypes: float64(12), int64(2)\n",
      "memory usage: 41.5 KB\n"
     ]
    }
   ],
   "source": [
    "train_df.info()"
   ]
  },
  {
   "cell_type": "markdown",
   "id": "a35ea9d7-d4a4-4f78-a6bd-0ff1793a83ce",
   "metadata": {},
   "source": [
    "Dataset is small and I'm doing this late at night so let's apply standard scaler to all variables and see what resu;ts we can get."
   ]
  },
  {
   "cell_type": "code",
   "execution_count": 9,
   "id": "0cb4d204-4ca1-40a9-9d12-4d6782de1e35",
   "metadata": {},
   "outputs": [
    {
     "name": "stdout",
     "output_type": "stream",
     "text": [
      "<class 'pandas.core.frame.DataFrame'>\n",
      "Int64Index: 152 entries, 272 to 23\n",
      "Data columns (total 14 columns):\n",
      " #   Column   Non-Null Count  Dtype  \n",
      "---  ------   --------------  -----  \n",
      " 0   CRIM     152 non-null    float64\n",
      " 1   ZN       152 non-null    float64\n",
      " 2   INDUS    152 non-null    float64\n",
      " 3   CHAS     152 non-null    int64  \n",
      " 4   NOX      152 non-null    float64\n",
      " 5   RM       152 non-null    float64\n",
      " 6   AGE      152 non-null    float64\n",
      " 7   DIS      152 non-null    float64\n",
      " 8   RAD      152 non-null    int64  \n",
      " 9   TAX      152 non-null    float64\n",
      " 10  PTRATIO  152 non-null    float64\n",
      " 11  B        152 non-null    float64\n",
      " 12  LSTAT    152 non-null    float64\n",
      " 13  PRICE    152 non-null    float64\n",
      "dtypes: float64(12), int64(2)\n",
      "memory usage: 17.8 KB\n"
     ]
    }
   ],
   "source": [
    "test_df.info()"
   ]
  },
  {
   "cell_type": "code",
   "execution_count": 10,
   "id": "6dea1ccb-531e-4ce2-82f0-66c26b205209",
   "metadata": {},
   "outputs": [],
   "source": [
    "scaler = StandardScaler()\n",
    "y_scaler = StandardScaler()\n",
    "\n",
    "train_y = train_df[\"PRICE\"].to_numpy().reshape(-1, 1)\n",
    "train_df = train_df.drop(\"PRICE\", axis=1)\n",
    "train_x = scaler.fit_transform(train_df.iloc[:, :])\n",
    "train_y = y_scaler.fit_transform(train_y)\n",
    "\n",
    "test_y = test_df[\"PRICE\"].to_numpy().reshape(-1, 1)\n",
    "test_df = test_df.drop(\"PRICE\", axis=1)\n",
    "test_x = scaler.transform(test_df.iloc[:, :])"
   ]
  },
  {
   "cell_type": "code",
   "execution_count": 11,
   "id": "141bb0db-cd52-495c-9f40-8e392c3aa28c",
   "metadata": {},
   "outputs": [
    {
     "data": {
      "text/plain": [
       "array([[-0.38926595, -0.52052107,  1.53671422, ...,  1.31094813,\n",
       "         0.395535  ,  1.18490337],\n",
       "       [-0.41319792,  3.12547237, -1.44752997, ..., -2.17765211,\n",
       "         0.43203025, -1.34283596],\n",
       "       [-0.38094139, -0.52052107, -0.72744397, ..., -0.43335199,\n",
       "         0.25825831, -1.23287373],\n",
       "       ...,\n",
       "       [-0.35967486,  0.2896997 , -1.04924593, ..., -2.45306792,\n",
       "         0.40350522, -0.44782694],\n",
       "       [-0.40082269, -0.52052107, -0.09394145, ...,  0.11747962,\n",
       "         0.44650251, -0.26966029],\n",
       "       [-0.35999186, -0.52052107, -0.72744397, ..., -0.43335199,\n",
       "         0.25196602, -0.16108999]])"
      ]
     },
     "execution_count": 11,
     "metadata": {},
     "output_type": "execute_result"
    }
   ],
   "source": [
    "train_x"
   ]
  },
  {
   "cell_type": "code",
   "execution_count": 12,
   "id": "9d5616b4-d48a-4b05-b348-4391df005f93",
   "metadata": {},
   "outputs": [
    {
     "data": {
      "image/png": "[encoded data removed]",
      "text/plain": [
       "<Figure size 1440x1080 with 16 Axes>"
      ]
     },
     "metadata": {
      "needs_background": "light"
     },
     "output_type": "display_data"
    }
   ],
   "source": [
    "processed_x_train_df = pd.DataFrame(train_x)\n",
    "processed_x_train_df.columns = header[:-1]\n",
    "_ = processed_x_train_df.hist(bins=50, figsize=(20,15))"
   ]
  },
  {
   "cell_type": "code",
   "execution_count": 13,
   "id": "e63bdb1c-9f2b-4b35-a4a3-7f7628a407a8",
   "metadata": {},
   "outputs": [
    {
     "data": {
      "text/html": [
       "<div>\n",
       "<style scoped>\n",
       "    .dataframe tbody tr th:only-of-type {\n",
       "        vertical-align: middle;\n",
       "    }\n",
       "\n",
       "    .dataframe tbody tr th {\n",
       "        vertical-align: top;\n",
       "    }\n",
       "\n",
       "    .dataframe thead th {\n",
       "        text-align: right;\n",
       "    }\n",
       "</style>\n",
       "<table border=\"1\" class=\"dataframe\">\n",
       "  <thead>\n",
       "    <tr style=\"text-align: right;\">\n",
       "      <th></th>\n",
       "      <th>CRIM</th>\n",
       "      <th>ZN</th>\n",
       "      <th>INDUS</th>\n",
       "      <th>CHAS</th>\n",
       "      <th>NOX</th>\n",
       "      <th>RM</th>\n",
       "      <th>AGE</th>\n",
       "      <th>DIS</th>\n",
       "      <th>RAD</th>\n",
       "      <th>TAX</th>\n",
       "      <th>PTRATIO</th>\n",
       "      <th>B</th>\n",
       "      <th>LSTAT</th>\n",
       "    </tr>\n",
       "  </thead>\n",
       "  <tbody>\n",
       "    <tr>\n",
       "      <th>count</th>\n",
       "      <td>3.540000e+02</td>\n",
       "      <td>3.540000e+02</td>\n",
       "      <td>3.540000e+02</td>\n",
       "      <td>3.540000e+02</td>\n",
       "      <td>3.540000e+02</td>\n",
       "      <td>3.540000e+02</td>\n",
       "      <td>3.540000e+02</td>\n",
       "      <td>3.540000e+02</td>\n",
       "      <td>3.540000e+02</td>\n",
       "      <td>3.540000e+02</td>\n",
       "      <td>3.540000e+02</td>\n",
       "      <td>3.540000e+02</td>\n",
       "      <td>3.540000e+02</td>\n",
       "    </tr>\n",
       "    <tr>\n",
       "      <th>mean</th>\n",
       "      <td>9.534119e-17</td>\n",
       "      <td>1.505387e-17</td>\n",
       "      <td>1.304669e-16</td>\n",
       "      <td>2.007183e-17</td>\n",
       "      <td>-6.397895e-16</td>\n",
       "      <td>-1.558076e-15</td>\n",
       "      <td>2.433709e-16</td>\n",
       "      <td>-2.822601e-16</td>\n",
       "      <td>-2.508979e-17</td>\n",
       "      <td>1.555567e-16</td>\n",
       "      <td>1.756285e-16</td>\n",
       "      <td>-2.107542e-16</td>\n",
       "      <td>-4.177449e-16</td>\n",
       "    </tr>\n",
       "    <tr>\n",
       "      <th>std</th>\n",
       "      <td>1.001415e+00</td>\n",
       "      <td>1.001415e+00</td>\n",
       "      <td>1.001415e+00</td>\n",
       "      <td>1.001415e+00</td>\n",
       "      <td>1.001415e+00</td>\n",
       "      <td>1.001415e+00</td>\n",
       "      <td>1.001415e+00</td>\n",
       "      <td>1.001415e+00</td>\n",
       "      <td>1.001415e+00</td>\n",
       "      <td>1.001415e+00</td>\n",
       "      <td>1.001415e+00</td>\n",
       "      <td>1.001415e+00</td>\n",
       "      <td>1.001415e+00</td>\n",
       "    </tr>\n",
       "    <tr>\n",
       "      <th>min</th>\n",
       "      <td>-4.140837e-01</td>\n",
       "      <td>-5.205211e-01</td>\n",
       "      <td>-1.515354e+00</td>\n",
       "      <td>-2.447044e-01</td>\n",
       "      <td>-1.432740e+00</td>\n",
       "      <td>-3.814843e+00</td>\n",
       "      <td>-2.292333e+00</td>\n",
       "      <td>-1.243657e+00</td>\n",
       "      <td>-9.817528e-01</td>\n",
       "      <td>-1.326969e+00</td>\n",
       "      <td>-2.636678e+00</td>\n",
       "      <td>-3.712488e+00</td>\n",
       "      <td>-1.515435e+00</td>\n",
       "    </tr>\n",
       "    <tr>\n",
       "      <th>25%</th>\n",
       "      <td>-4.065868e-01</td>\n",
       "      <td>-5.205211e-01</td>\n",
       "      <td>-9.013325e-01</td>\n",
       "      <td>-2.447044e-01</td>\n",
       "      <td>-9.039641e-01</td>\n",
       "      <td>-5.540639e-01</td>\n",
       "      <td>-8.956627e-01</td>\n",
       "      <td>-8.038841e-01</td>\n",
       "      <td>-6.383333e-01</td>\n",
       "      <td>-7.534875e-01</td>\n",
       "      <td>-6.628652e-01</td>\n",
       "      <td>2.285535e-01</td>\n",
       "      <td>-8.145997e-01</td>\n",
       "    </tr>\n",
       "    <tr>\n",
       "      <th>50%</th>\n",
       "      <td>-3.902572e-01</td>\n",
       "      <td>-5.205211e-01</td>\n",
       "      <td>-1.935125e-01</td>\n",
       "      <td>-2.447044e-01</td>\n",
       "      <td>-1.330980e-01</td>\n",
       "      <td>-1.203676e-01</td>\n",
       "      <td>3.221065e-01</td>\n",
       "      <td>-3.136323e-01</td>\n",
       "      <td>-5.238602e-01</td>\n",
       "      <td>-4.518123e-01</td>\n",
       "      <td>1.863336e-01</td>\n",
       "      <td>3.877221e-01</td>\n",
       "      <td>-1.917124e-01</td>\n",
       "    </tr>\n",
       "    <tr>\n",
       "      <th>75%</th>\n",
       "      <td>-2.720630e-02</td>\n",
       "      <td>2.896997e-01</td>\n",
       "      <td>9.897952e-01</td>\n",
       "      <td>-2.447044e-01</td>\n",
       "      <td>5.974198e-01</td>\n",
       "      <td>4.912913e-01</td>\n",
       "      <td>9.128354e-01</td>\n",
       "      <td>6.543512e-01</td>\n",
       "      <td>1.651130e+00</td>\n",
       "      <td>1.528491e+00</td>\n",
       "      <td>8.519218e-01</td>\n",
       "      <td>4.395548e-01</td>\n",
       "      <td>5.985541e-01</td>\n",
       "    </tr>\n",
       "    <tr>\n",
       "      <th>max</th>\n",
       "      <td>8.654551e+00</td>\n",
       "      <td>3.530583e+00</td>\n",
       "      <td>2.380903e+00</td>\n",
       "      <td>4.086563e+00</td>\n",
       "      <td>2.695535e+00</td>\n",
       "      <td>3.498439e+00</td>\n",
       "      <td>1.147533e+00</td>\n",
       "      <td>3.241235e+00</td>\n",
       "      <td>1.651130e+00</td>\n",
       "      <td>1.797310e+00</td>\n",
       "      <td>1.678169e+00</td>\n",
       "      <td>4.465025e-01</td>\n",
       "      <td>3.502462e+00</td>\n",
       "    </tr>\n",
       "  </tbody>\n",
       "</table>\n",
       "</div>"
      ],
      "text/plain": [
       "               CRIM            ZN         INDUS          CHAS           NOX  \\\n",
       "count  3.540000e+02  3.540000e+02  3.540000e+02  3.540000e+02  3.540000e+02   \n",
       "mean   9.534119e-17  1.505387e-17  1.304669e-16  2.007183e-17 -6.397895e-16   \n",
       "std    1.001415e+00  1.001415e+00  1.001415e+00  1.001415e+00  1.001415e+00   \n",
       "min   -4.140837e-01 -5.205211e-01 -1.515354e+00 -2.447044e-01 -1.432740e+00   \n",
       "25%   -4.065868e-01 -5.205211e-01 -9.013325e-01 -2.447044e-01 -9.039641e-01   \n",
       "50%   -3.902572e-01 -5.205211e-01 -1.935125e-01 -2.447044e-01 -1.330980e-01   \n",
       "75%   -2.720630e-02  2.896997e-01  9.897952e-01 -2.447044e-01  5.974198e-01   \n",
       "max    8.654551e+00  3.530583e+00  2.380903e+00  4.086563e+00  2.695535e+00   \n",
       "\n",
       "                 RM           AGE           DIS           RAD           TAX  \\\n",
       "count  3.540000e+02  3.540000e+02  3.540000e+02  3.540000e+02  3.540000e+02   \n",
       "mean  -1.558076e-15  2.433709e-16 -2.822601e-16 -2.508979e-17  1.555567e-16   \n",
       "std    1.001415e+00  1.001415e+00  1.001415e+00  1.001415e+00  1.001415e+00   \n",
       "min   -3.814843e+00 -2.292333e+00 -1.243657e+00 -9.817528e-01 -1.326969e+00   \n",
       "25%   -5.540639e-01 -8.956627e-01 -8.038841e-01 -6.383333e-01 -7.534875e-01   \n",
       "50%   -1.203676e-01  3.221065e-01 -3.136323e-01 -5.238602e-01 -4.518123e-01   \n",
       "75%    4.912913e-01  9.128354e-01  6.543512e-01  1.651130e+00  1.528491e+00   \n",
       "max    3.498439e+00  1.147533e+00  3.241235e+00  1.651130e+00  1.797310e+00   \n",
       "\n",
       "            PTRATIO             B         LSTAT  \n",
       "count  3.540000e+02  3.540000e+02  3.540000e+02  \n",
       "mean   1.756285e-16 -2.107542e-16 -4.177449e-16  \n",
       "std    1.001415e+00  1.001415e+00  1.001415e+00  \n",
       "min   -2.636678e+00 -3.712488e+00 -1.515435e+00  \n",
       "25%   -6.628652e-01  2.285535e-01 -8.145997e-01  \n",
       "50%    1.863336e-01  3.877221e-01 -1.917124e-01  \n",
       "75%    8.519218e-01  4.395548e-01  5.985541e-01  \n",
       "max    1.678169e+00  4.465025e-01  3.502462e+00  "
      ]
     },
     "execution_count": 13,
     "metadata": {},
     "output_type": "execute_result"
    }
   ],
   "source": [
    "processed_x_train_df.describe()"
   ]
  },
  {
   "cell_type": "markdown",
   "id": "fe9b49ed-4050-40a1-b8b7-4510cb8c8cb2",
   "metadata": {},
   "source": [
    "## Models and training\n",
    "\n",
    "Now let's train models from scikit learn."
   ]
  },
  {
   "cell_type": "code",
   "execution_count": 14,
   "id": "1909a1d2-bb68-41c7-8435-3b9ca138b798",
   "metadata": {},
   "outputs": [
    {
     "data": {
      "text/plain": [
       "LinearRegression()"
      ]
     },
     "execution_count": 14,
     "metadata": {},
     "output_type": "execute_result"
    }
   ],
   "source": [
    "svm_model = SVR()\n",
    "linreg_model = LinearRegression()\n",
    "svm_model.fit(train_x, np.ravel(train_y))\n",
    "linreg_model.fit(train_x, np.ravel(train_y))"
   ]
  },
  {
   "cell_type": "markdown",
   "id": "0315bbb3-9f70-4a27-a316-47c946af02bb",
   "metadata": {},
   "source": [
    "Now let's train neural network model."
   ]
  },
  {
   "cell_type": "code",
   "execution_count": 15,
   "id": "a2e03981-3a32-4e8e-8632-778792dc8964",
   "metadata": {},
   "outputs": [],
   "source": [
    "class NeuralModel(nn.Module):\n",
    "    def __init__(self, feature_count):\n",
    "        super().__init__()\n",
    "        \n",
    "        self.fc1 = nn.Linear(feature_count, 150)\n",
    "        self.fc2 = nn.Linear(150, 150)\n",
    "        self.output = nn.Linear(150, 1)\n",
    "        \n",
    "        self.initialize()\n",
    "        \n",
    "    def initialize(self):\n",
    "        nn.init.kaiming_normal_(self.fc1.weight, mode=\"fan_in\", \n",
    "                                 nonlinearity=\"relu\")\n",
    "        nn.init.kaiming_normal_(self.fc2.weight, mode=\"fan_in\", \n",
    "                                 nonlinearity=\"relu\")\n",
    "        nn.init.xavier_normal_(self.output.weight)\n",
    "    \n",
    "    def forward(self, x):\n",
    "        x = torch_fun.relu(self.fc1(x))\n",
    "        x = torch_fun.relu(self.fc2(x))\n",
    "        return self.output(x)"
   ]
  },
  {
   "cell_type": "code",
   "execution_count": 16,
   "id": "428c69cb-7b46-48ff-a30a-ae7bc44a2aa3",
   "metadata": {},
   "outputs": [],
   "source": [
    "def train_model(model, device, train_dataset, optim, criterion,\n",
    "          batch_size, epochs, verbose=True):\n",
    "    \n",
    "    train_loader = data.DataLoader(train_dataset, batch_size=batch_size, shuffle=True)\n",
    "    \n",
    "    loss_history = []\n",
    "    losses = []\n",
    "    for epoch in range(epochs):\n",
    "        for x, y in train_loader:\n",
    "            x = x.to(device)\n",
    "            y = y.to(device)\n",
    "\n",
    "            preds = model(x)\n",
    "            loss = criterion(preds, y)\n",
    "            loss.backward()\n",
    "            optim.step()\n",
    "\n",
    "            with torch.no_grad():\n",
    "                losses.append(loss.cpu())\n",
    "        \n",
    "        avg_loss = np.average(losses)\n",
    "        if verbose:\n",
    "            print(f\"Epoch {epoch+1}/{epochs} loss: {avg_loss}\")\n",
    "        \n",
    "        loss_history.append(avg_loss)\n",
    "        \n",
    "    return loss_history"
   ]
  },
  {
   "cell_type": "code",
   "execution_count": 17,
   "id": "f6079409-4c40-4385-9af7-70ac94c437d2",
   "metadata": {},
   "outputs": [],
   "source": [
    "def xy_arrays_to_dataset(x, y):\n",
    "    x = torch.from_numpy(x).float()\n",
    "    y = torch.from_numpy(y).float()\n",
    "    return data.TensorDataset(x, y)\n",
    "\n",
    "train_dataset = xy_arrays_to_dataset(train_x, train_y)"
   ]
  },
  {
   "cell_type": "code",
   "execution_count": 18,
   "id": "aba0dadb-895f-4c63-8f0b-f52e0de58731",
   "metadata": {},
   "outputs": [
    {
     "name": "stdout",
     "output_type": "stream",
     "text": [
      "==========================================================================================\n",
      "Layer (type:depth-idx)                   Output Shape              Param #\n",
      "==========================================================================================\n",
      "├─Linear: 1-1                            [-1, 354, 150]            2,100\n",
      "├─Linear: 1-2                            [-1, 354, 150]            22,650\n",
      "├─Linear: 1-3                            [-1, 354, 1]              151\n",
      "==========================================================================================\n",
      "Total params: 24,901\n",
      "Trainable params: 24,901\n",
      "Non-trainable params: 0\n",
      "Total mult-adds (M): 0.02\n",
      "==========================================================================================\n",
      "Input size (MB): 0.02\n",
      "Forward/backward pass size (MB): 0.81\n",
      "Params size (MB): 0.09\n",
      "Estimated Total Size (MB): 0.93\n",
      "==========================================================================================\n"
     ]
    }
   ],
   "source": [
    "nn_model = NeuralModel(train_x.shape[1])\n",
    "_ = summary(nn_model, train_x.shape)"
   ]
  },
  {
   "cell_type": "markdown",
   "id": "9e8ab57d-07a1-46e3-a1ab-de282867908b",
   "metadata": {},
   "source": [
    "Function for measuring error will be a MSE."
   ]
  },
  {
   "cell_type": "code",
   "execution_count": 19,
   "id": "c8448861-fd37-4c26-bdb6-d5bb55f23af5",
   "metadata": {},
   "outputs": [],
   "source": [
    "nn_model.to(device)\n",
    "optim = torch.optim.SGD(nn_model.parameters(), lr=0.001, weight_decay=0.1, momentum=0.2)\n",
    "loss = nn.MSELoss()"
   ]
  },
  {
   "cell_type": "code",
   "execution_count": 20,
   "id": "c4635838-c666-4c77-892a-7e5986ebe1c5",
   "metadata": {},
   "outputs": [],
   "source": [
    "loss_history = train_model(nn_model, device, train_dataset, optim, loss, train_x.shape[0], 150, verbose=False)"
   ]
  },
  {
   "cell_type": "code",
   "execution_count": 21,
   "id": "88fe9e87-4e81-46c6-86f0-e5bdc4d624b0",
   "metadata": {},
   "outputs": [
    {
     "data": {
      "text/plain": [
       "[<matplotlib.lines.Line2D at 0x7fcb2307c820>]"
      ]
     },
     "execution_count": 21,
     "metadata": {},
     "output_type": "execute_result"
    },
    {
     "data": {
      "image/png": "[encoded data removed]",
      "text/plain": [
       "<Figure size 432x288 with 1 Axes>"
      ]
     },
     "metadata": {
      "needs_background": "light"
     },
     "output_type": "display_data"
    }
   ],
   "source": [
    "plt.plot(loss_history)"
   ]
  },
  {
   "cell_type": "markdown",
   "id": "7fec969b-38b4-4382-aefe-dd7acafe191d",
   "metadata": {},
   "source": [
    "## Model evaluation\n",
    "\n",
    "Let's now test models on the test dataset and see how well they performed. Each model will be evaluated using mean relative error. We will also determine the histogram of relative errors for each model."
   ]
  },
  {
   "cell_type": "code",
   "execution_count": 22,
   "id": "5f9a6355-3765-4aa9-86b5-f6cf040015b4",
   "metadata": {},
   "outputs": [],
   "source": [
    "def evaluate_scikit_model(model, test_x, test_y, y_scaler):\n",
    "    preds = model.predict(test_x)\n",
    "    preds = y_scaler.inverse_transform(preds)\n",
    "    preds = test_y.ravel() - preds\n",
    "    return np.absolute(preds)/test_y.ravel()\n",
    "\n",
    "def evaluate_nn_model(model, test_x, test_y, y_scaler, device):\n",
    "    test_x = torch.from_numpy(test_x).float()\n",
    "    test_dataset = data.TensorDataset(test_x)\n",
    "    test_loader = torch.utils.data.DataLoader(test_dataset, batch_size=256)\n",
    "    \n",
    "    preds = np.array([])\n",
    "    for x in test_loader:\n",
    "        with torch.no_grad():\n",
    "            x = x[0].to(device)\n",
    "            y = model(x)\n",
    "            y = y.cpu().numpy()\n",
    "            preds = np.append(preds, y)\n",
    "    \n",
    "    preds = y_scaler.inverse_transform(preds)\n",
    "    preds = test_y.ravel() - preds\n",
    "    return np.absolute(preds)/test_y.ravel()"
   ]
  },
  {
   "cell_type": "code",
   "execution_count": 23,
   "id": "a99bbf37-f75c-45fe-b493-5fca1a76428a",
   "metadata": {},
   "outputs": [],
   "source": [
    "svr_errors = evaluate_scikit_model(svm_model, test_x, test_y, y_scaler)\n",
    "linreg_errors = evaluate_scikit_model(linreg_model, test_x, test_y, y_scaler)"
   ]
  },
  {
   "cell_type": "code",
   "execution_count": 24,
   "id": "bfe47467-01ea-4ef9-b06e-4984d0133654",
   "metadata": {},
   "outputs": [],
   "source": [
    "nn_model_random = NeuralModel(train_x.shape[1])\n",
    "nn_model_random.to(device)\n",
    "\n",
    "random_nn_errors = evaluate_nn_model(nn_model_random, test_x, test_y, y_scaler, device)\n",
    "nn_errors = evaluate_nn_model(nn_model, test_x, test_y, y_scaler, device)"
   ]
  },
  {
   "cell_type": "code",
   "execution_count": 25,
   "id": "0a97ad1f-c1ed-4bed-a2f4-20cdd23001e2",
   "metadata": {},
   "outputs": [
    {
     "data": {
      "text/plain": [
       "0.13129643488813136"
      ]
     },
     "execution_count": 25,
     "metadata": {},
     "output_type": "execute_result"
    }
   ],
   "source": [
    "np.average(svr_errors)"
   ]
  },
  {
   "cell_type": "code",
   "execution_count": 26,
   "id": "55a71dce-300e-40b2-97d2-f86cc0fd37e6",
   "metadata": {},
   "outputs": [
    {
     "data": {
      "text/plain": [
       "0.16113033956567396"
      ]
     },
     "execution_count": 26,
     "metadata": {},
     "output_type": "execute_result"
    }
   ],
   "source": [
    "np.average(linreg_errors)"
   ]
  },
  {
   "cell_type": "code",
   "execution_count": 27,
   "id": "4e6aa622-57a9-4458-b154-ee1855a276ec",
   "metadata": {},
   "outputs": [
    {
     "data": {
      "text/plain": [
       "0.4969738584270364"
      ]
     },
     "execution_count": 27,
     "metadata": {},
     "output_type": "execute_result"
    }
   ],
   "source": [
    "np.average(random_nn_errors)"
   ]
  },
  {
   "cell_type": "code",
   "execution_count": 28,
   "id": "4a34d865-461e-4e2e-bc7b-2ecbf63f95d2",
   "metadata": {},
   "outputs": [
    {
     "data": {
      "text/plain": [
       "0.16662949214475176"
      ]
     },
     "execution_count": 28,
     "metadata": {},
     "output_type": "execute_result"
    }
   ],
   "source": [
    "np.average(nn_errors)"
   ]
  },
  {
   "cell_type": "code",
   "execution_count": 29,
   "id": "778b4447-9739-4ac7-9293-18310f348b50",
   "metadata": {},
   "outputs": [],
   "source": [
    "def plot_hist(data, title):\n",
    "    plt.title(title)\n",
    "    plt.hist(data, bins=50)\n",
    "    plt.xlim(0, 2)\n",
    "    plt.xlabel(\"relative error\")\n",
    "    plt.ylabel(\"count\")"
   ]
  },
  {
   "cell_type": "code",
   "execution_count": 31,
   "id": "3f3a0b19-ca30-4cfc-8b23-3ebd629502b2",
   "metadata": {},
   "outputs": [
    {
     "data": {
      "image/png": "[encoded data removed]",
      "text/plain": [
       "<Figure size 432x288 with 1 Axes>"
      ]
     },
     "metadata": {
      "needs_background": "light"
     },
     "output_type": "display_data"
    }
   ],
   "source": [
    "plot_hist(svr_errors, \"SVM model error\")"
   ]
  },
  {
   "cell_type": "code",
   "execution_count": 33,
   "id": "c9696548-21e5-4728-9bab-bb7a6dacacbb",
   "metadata": {},
   "outputs": [
    {
     "data": {
      "image/png": "[encoded data removed]",
      "text/plain": [
       "<Figure size 432x288 with 1 Axes>"
      ]
     },
     "metadata": {
      "needs_background": "light"
     },
     "output_type": "display_data"
    }
   ],
   "source": [
    "plot_hist(linreg_errors, \"Linear regression error\")"
   ]
  },
  {
   "cell_type": "code",
   "execution_count": 34,
   "id": "d6968f00-aa1a-4ea8-b753-87d1f1441ff5",
   "metadata": {},
   "outputs": [
    {
     "data": {
      "image/png": "[encoded data removed]",
      "text/plain": [
       "<Figure size 432x288 with 1 Axes>"
      ]
     },
     "metadata": {
      "needs_background": "light"
     },
     "output_type": "display_data"
    }
   ],
   "source": [
    "plot_hist(random_nn_errors, \"Random neural network error\")"
   ]
  },
  {
   "cell_type": "code",
   "execution_count": 35,
   "id": "581f4ad3-4618-4f80-a22b-095624a37b2e",
   "metadata": {},
   "outputs": [
    {
     "data": {
      "image/png": "[encoded data removed]",
      "text/plain": [
       "<Figure size 432x288 with 1 Axes>"
      ]
     },
     "metadata": {
      "needs_background": "light"
     },
     "output_type": "display_data"
    }
   ],
   "source": [
    "plot_hist(nn_errors, \"Neural network error\")"
   ]
  },
  {
   "cell_type": "markdown",
   "id": "d0533afa-c7e9-444d-a52c-174752094820",
   "metadata": {},
   "source": [
    "As we can see neural network in this case performs similarly to a linear regresssion. The best model in this case seems to be svr with average error of 13% of house value."
   ]
  }
 ],
 "metadata": {
  "kernelspec": {
   "display_name": "Python 3",
   "language": "python",
   "name": "python3"
  },
  "language_info": {
   "codemirror_mode": {
    "name": "ipython",
    "version": 3
   },
   "file_extension": ".py",
   "mimetype": "text/x-python",
   "name": "python",
   "nbconvert_exporter": "python",
   "pygments_lexer": "ipython3",
   "version": "3.9.5"
  }
 },
 "nbformat": 4,
 "nbformat_minor": 5
}

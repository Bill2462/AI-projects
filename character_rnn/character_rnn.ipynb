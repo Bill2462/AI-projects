{
 "cells": [
  {
   "cell_type": "markdown",
   "id": "1fb958c3-4557-49b2-8117-20b2a55b866d",
   "metadata": {},
   "source": [
    "# Simple RNN\n",
    "\n",
    "Simple RNN that predicts the next character. Based on chapter 8 of Dive to Deep learning.\n",
    "\n",
    "## Preparing dataset\n",
    "\n",
    "For dataset here I used 3 books by Verne. They are contained in dataset directory as text files.\n",
    "\n",
    "In order to use this dataset for training we need to do the following:\n",
    "\n",
    " - Load files into memory.\n",
    " - Split string into tokens (in this case characters).\n",
    " - Encode characters into numbers.\n",
    " \n",
    "First let's load the files."
   ]
  },
  {
   "cell_type": "code",
   "execution_count": 1,
   "id": "bb7a894b-e0f8-42de-a2d7-4ef146440ef9",
   "metadata": {},
   "outputs": [
    {
     "name": "stdout",
     "output_type": "stream",
     "text": [
      "Loading dataset/around_the_world_in_80_days.txt ...\n",
      "Loading dataset/journey_to_the_center_of_the_earth.txt ...\n",
      "Loading dataset/the_secret_of_the_island.txt ...\n"
     ]
    }
   ],
   "source": [
    "%matplotlib inline\n",
    "import collections\n",
    "import re\n",
    "import glob\n",
    "import random\n",
    "import torch\n",
    "import math\n",
    "import matplotlib.pyplot as plt\n",
    "from tqdm.notebook import tqdm\n",
    "from torch import nn\n",
    "from torch.nn import functional as torch_fn\n",
    "\n",
    "device = \"cuda\" if torch.cuda.is_available() else \"cpu\"\n",
    "\n",
    "DATASET_DIR = \"dataset\"\n",
    "\n",
    "dataset_lines = []\n",
    "\n",
    "for filename in glob.iglob(f'{DATASET_DIR}/*.txt'):\n",
    "    print(f\"Loading {filename} ...\")\n",
    "    with open(filename, 'r') as f:\n",
    "        lines = f.readlines()\n",
    "    file_lines = [re.sub('[^A-Za-z0-9]+', ' ', line).strip().lower() for line in lines]\n",
    "    dataset_lines.extend(file_lines)"
   ]
  },
  {
   "cell_type": "code",
   "execution_count": 2,
   "id": "a02c69b3-bdaf-407f-96e2-e9cac9d58a49",
   "metadata": {},
   "outputs": [
    {
     "data": {
      "text/plain": [
       "26647"
      ]
     },
     "execution_count": 2,
     "metadata": {},
     "output_type": "execute_result"
    }
   ],
   "source": [
    "len(dataset_lines)"
   ]
  },
  {
   "cell_type": "code",
   "execution_count": 3,
   "id": "bac89d70-22ac-41a1-a96a-6703822aeb07",
   "metadata": {},
   "outputs": [
    {
     "data": {
      "text/plain": [
       "['the project gutenberg ebook of around the world in 80 days by jules verne',\n",
       " '',\n",
       " 'this ebook is for the use of anyone anywhere at no cost and with',\n",
       " 'almost no restrictions whatsoever you may copy it give it away or',\n",
       " 're use it under the terms of the project gutenberg license included',\n",
       " 'with this ebook or online at www gutenberg net',\n",
       " '',\n",
       " '',\n",
       " 'title around the world in 80 days',\n",
       " '']"
      ]
     },
     "execution_count": 3,
     "metadata": {},
     "output_type": "execute_result"
    }
   ],
   "source": [
    "dataset_lines[:10]"
   ]
  },
  {
   "cell_type": "markdown",
   "id": "7dc30534-1e52-4cc6-bc8f-8efc08141f70",
   "metadata": {},
   "source": [
    "Now we will tokenize and flatten the entire dataset."
   ]
  },
  {
   "cell_type": "code",
   "execution_count": 4,
   "id": "3b3c3648-021c-42b5-8d62-3baff47dc523",
   "metadata": {},
   "outputs": [],
   "source": [
    "tokenized_dataset = [list(line) for line in dataset_lines]\n",
    "tokenized_dataset = [token for line in tokenized_dataset for token in line]"
   ]
  },
  {
   "cell_type": "code",
   "execution_count": 5,
   "id": "ebc3302b-416e-4575-93f1-f187d4d6684b",
   "metadata": {},
   "outputs": [
    {
     "data": {
      "text/plain": [
       "1141456"
      ]
     },
     "execution_count": 5,
     "metadata": {},
     "output_type": "execute_result"
    }
   ],
   "source": [
    "len(tokenized_dataset)"
   ]
  },
  {
   "cell_type": "code",
   "execution_count": 6,
   "id": "12bdcce8-8bec-4bfc-b999-f8f3c10ccf3f",
   "metadata": {},
   "outputs": [
    {
     "name": "stdout",
     "output_type": "stream",
     "text": [
      "['t', 'h', 'e', ' ', 'p', 'r', 'o', 'j', 'e', 'c', 't', ' ', 'g', 'u', 't', 'e', 'n', 'b', 'e', 'r', 'g', ' ', 'e', 'b', 'o', 'o', 'k', ' ', 'o', 'f', ' ', 'a', 'r', 'o', 'u', 'n', 'd', ' ', 't', 'h', 'e', ' ', 'w', 'o', 'r', 'l', 'd', ' ', 'i', 'n', ' ', '8', '0', ' ', 'd', 'a', 'y', 's', ' ', 'b', 'y', ' ', 'j', 'u', 'l', 'e', 's', ' ', 'v', 'e', 'r', 'n', 'e', 't', 'h', 'i', 's', ' ', 'e', 'b', 'o', 'o', 'k', ' ', 'i', 's', ' ', 'f', 'o', 'r', ' ', 't', 'h', 'e', ' ', 'u', 's', 'e', ' ', 'o']\n"
     ]
    }
   ],
   "source": [
    "print(tokenized_dataset[:100])"
   ]
  },
  {
   "cell_type": "markdown",
   "id": "61755ce5-84ae-4616-b032-f0910f94e92d",
   "metadata": {},
   "source": [
    "This is a simple solution but it does have a small flaw. Since text were stiched the sequence at the point of stiching will not make sense. However this only represents a small fraction of the dataset so this shouldn't have a significant impact on the result.\n",
    "\n",
    "Now let's construct a dictionary that will be used to encode characters into numbers."
   ]
  },
  {
   "cell_type": "code",
   "execution_count": 7,
   "id": "6d1bef65-5892-4698-9e29-d3118650be61",
   "metadata": {},
   "outputs": [],
   "source": [
    "class Vocabulary:\n",
    "    def __init__(self, tokens):\n",
    "        counter = collections.Counter(tokenized_dataset)\n",
    "        \n",
    "        self.vocab = {}\n",
    "        for i, c in enumerate(counter):\n",
    "            self.vocab[c] = i\n",
    "            \n",
    "        self.key_list = list(self.vocab.keys())\n",
    "        self.val_list = list(self.vocab.values())\n",
    "        \n",
    "        self.size = len(self.key_list)\n",
    "    \n",
    "    def tokens_to_indexes(self, tokens):\n",
    "        indexes = []\n",
    "        for token in tokens:\n",
    "            indexes.append(self.vocab[token])\n",
    "        return indexes\n",
    "    \n",
    "    def indexes_to_tokens(self, indexes):\n",
    "        tokens = []\n",
    "        for indx in indexes:\n",
    "            tokens.append(self.key_list[self.val_list.index(indx)])\n",
    "        return tokens"
   ]
  },
  {
   "cell_type": "code",
   "execution_count": 8,
   "id": "54ec23ae-5e51-4a33-9329-5f7cd3bbe9fd",
   "metadata": {},
   "outputs": [],
   "source": [
    "vocab = Vocabulary(tokenized_dataset)"
   ]
  },
  {
   "cell_type": "code",
   "execution_count": 9,
   "id": "9b179f25-46de-40ac-b973-0510a93e7730",
   "metadata": {},
   "outputs": [],
   "source": [
    "dataset = vocab.tokens_to_indexes(tokenized_dataset)"
   ]
  },
  {
   "cell_type": "code",
   "execution_count": 10,
   "id": "1a3a84db-bacc-4dbc-a90a-8afc4f287977",
   "metadata": {},
   "outputs": [
    {
     "name": "stdout",
     "output_type": "stream",
     "text": [
      "[0, 1, 2, 3, 4, 5, 6, 7, 2, 8, 0, 3, 9, 10, 0, 2, 11, 12, 2, 5, 9, 3, 2, 12, 6, 6, 13, 3, 6, 14, 3, 15, 5, 6, 10, 11, 16, 3, 0, 1, 2, 3, 17, 6, 5, 18, 16, 3, 19, 11, 3, 20, 21, 3, 16, 15, 22, 23, 3, 12, 22, 3, 7, 10, 18, 2, 23, 3, 24, 2, 5, 11, 2, 0, 1, 19, 23, 3, 2, 12, 6, 6, 13, 3, 19, 23, 3, 14, 6, 5, 3, 0, 1, 2, 3, 10, 23, 2, 3, 6]\n"
     ]
    }
   ],
   "source": [
    "print(dataset[:100])"
   ]
  },
  {
   "cell_type": "code",
   "execution_count": 11,
   "id": "5cd53db9-e82d-4802-a7ec-c15b8a87d63e",
   "metadata": {},
   "outputs": [
    {
     "name": "stdout",
     "output_type": "stream",
     "text": [
      "['t', 'h', 'e', ' ', 'p', 'r', 'o', 'j', 'e', 'c', 't', ' ', 'g', 'u', 't', 'e', 'n', 'b', 'e', 'r', 'g', ' ', 'e', 'b', 'o', 'o', 'k', ' ', 'o', 'f', ' ', 'a', 'r', 'o', 'u', 'n', 'd', ' ', 't', 'h', 'e', ' ', 'w', 'o', 'r', 'l', 'd', ' ', 'i', 'n', ' ', '8', '0', ' ', 'd', 'a', 'y', 's', ' ', 'b', 'y', ' ', 'j', 'u', 'l', 'e', 's', ' ', 'v', 'e', 'r', 'n', 'e', 't', 'h', 'i', 's', ' ', 'e', 'b', 'o', 'o', 'k', ' ', 'i', 's', ' ', 'f', 'o', 'r', ' ', 't', 'h', 'e', ' ', 'u', 's', 'e', ' ', 'o']\n"
     ]
    }
   ],
   "source": [
    "print(vocab.indexes_to_tokens(dataset[:100]))"
   ]
  },
  {
   "cell_type": "markdown",
   "id": "9776eef3-e7d6-4ece-a474-89a3fc2944d0",
   "metadata": {},
   "source": [
    "## Data loader\n",
    "\n",
    "Now we will need to create a data loader. During training process we will try to predict the next character in the sequence. So in order to train a network we need a batch of sequences and corresponding sequences of labels.\n",
    "Each sequence will be sampled from the dataset using Sequential Partitioning. This means that we sample the sequences randomly but with a constrain that subsequences from two adjacent minibatches during iteration are adjacent on the original sequence.\n",
    "\n",
    "Here is the implementation of this process."
   ]
  },
  {
   "cell_type": "code",
   "execution_count": 12,
   "id": "1e81bcf0-e543-4c0e-9784-bcc0eaa7bce9",
   "metadata": {},
   "outputs": [],
   "source": [
    "class SeqDataLoader:\n",
    "    def __init__(self, corpus, batch_size, seq_len, device):\n",
    "        self.corpus, self.b, self.n, self.d = corpus, batch_size, seq_len, device\n",
    "\n",
    "    def __iter__(self):\n",
    "        # Randomly drop the first d tokens.\n",
    "        corpus = self.corpus[random.randint(0, self.n - 1):]\n",
    "        # No. of subsequences. Subtract 1 to account for labels.\n",
    "        m = (len(corpus)-1) // self.n\n",
    "        # The starting indices for input sequences.\n",
    "        initial_indices = list(range(0, m*self.n, self.n))\n",
    "        random.shuffle(initial_indices)\n",
    "        for i in range(0, m // self.b):\n",
    "            # The randomized starting indices for this minibatch.\n",
    "            batch_indicies = initial_indices[i*self.b : (i+1) * self.b]\n",
    "            X = [corpus[j : j+self.n] for j in batch_indicies]\n",
    "            Y = [corpus[j+1 : j+1+self.n] for j in batch_indicies]\n",
    "            yield torch.tensor(X, dtype=torch.int16, device=self.d), \\\n",
    "            torch.tensor(Y, dtype=torch.int16, device=self.d)\n"
   ]
  },
  {
   "cell_type": "code",
   "execution_count": 13,
   "id": "6020552f-17c8-4a70-be7a-60bc0435ed41",
   "metadata": {},
   "outputs": [],
   "source": [
    "data_loader = SeqDataLoader(dataset, 2, 40, device)"
   ]
  },
  {
   "cell_type": "code",
   "execution_count": 14,
   "id": "d40a94d7-b585-40bc-9013-4fc6a9212c50",
   "metadata": {},
   "outputs": [],
   "source": [
    "x,y = next(iter(data_loader))"
   ]
  },
  {
   "cell_type": "code",
   "execution_count": 15,
   "id": "20ff152a-8e06-467d-9909-0cec2ae0bf6e",
   "metadata": {},
   "outputs": [
    {
     "data": {
      "text/plain": [
       "(tensor([[ 2,  3, 15, 11, 30, 19,  6, 10, 23,  3,  0,  6,  3, 25, 15,  5,  5, 22,\n",
       "           3, 15, 23, 15,  8,  8,  6,  5, 16, 19, 11,  9,  3,  0,  6,  3,  0,  1,\n",
       "           2,  3, 25,  6],\n",
       "         [11,  2, 25, 22,  3, 12, 10,  0,  3, 15, 11,  3, 15, 18, 18, 22,  3,  1,\n",
       "           2,  3, 17, 15, 23,  3, 14, 15, 19,  0,  1, 14, 10, 18, 18, 22,  3, 13,\n",
       "           2,  2,  4, 19]], device='cuda:0', dtype=torch.int16),\n",
       " tensor([[ 3, 15, 11, 30, 19,  6, 10, 23,  3,  0,  6,  3, 25, 15,  5,  5, 22,  3,\n",
       "          15, 23, 15,  8,  8,  6,  5, 16, 19, 11,  9,  3,  0,  6,  3,  0,  1,  2,\n",
       "           3, 25,  6,  5],\n",
       "         [ 2, 25, 22,  3, 12, 10,  0,  3, 15, 11,  3, 15, 18, 18, 22,  3,  1,  2,\n",
       "           3, 17, 15, 23,  3, 14, 15, 19,  0,  1, 14, 10, 18, 18, 22,  3, 13,  2,\n",
       "           2,  4, 19, 11]], device='cuda:0', dtype=torch.int16))"
      ]
     },
     "execution_count": 15,
     "metadata": {},
     "output_type": "execute_result"
    }
   ],
   "source": [
    "x,y"
   ]
  },
  {
   "attachments": {
    "1630868a-ba4c-40b8-8d0b-55cf1d2ca4be.png": {
     "image/png": "[encoded data removed]"
    },
    "4cd0466e-4c85-429b-8e19-25185aa09bff.png": {
     "image/png": "[encoded data removed]"
    },
    "9ecb31af-63c8-421a-872e-e29820f56624.png": {
     "image/png": "[encoded data removed]"
    }
   },
   "cell_type": "markdown",
   "id": "56daae67-48c5-4dfa-98af-496fee800e95",
   "metadata": {},
   "source": [
    "## Model\n",
    "\n",
    "Model that we will use here is a simple one layer RNN with a hidden state.\n",
    "\n",
    "![image.png](attachment:1630868a-ba4c-40b8-8d0b-55cf1d2ca4be.png)\n",
    "\n",
    "The following equations are used to compute output and new hidden state:\n",
    "\n",
    "![image.png](attachment:9ecb31af-63c8-421a-872e-e29820f56624.png)\n",
    "![image.png](attachment:4cd0466e-4c85-429b-8e19-25185aa09bff.png)"
   ]
  },
  {
   "cell_type": "markdown",
   "id": "68e2af84-58bf-4fda-ae74-499ee212a373",
   "metadata": {},
   "source": [
    "Layer that implements first equation is provided by torch.nn.RNN.\n",
    "Second equation is just a linear classifier. Activation function for the recursive layer is going to be tanh.\n",
    "\n",
    "Each character will be encoded as one hot vector.\n",
    "\n",
    "Recursive layer implementation is provided by torch.nn.RNN.\n",
    "\n",
    "This function takes 2 parameters: \n",
    "\n",
    " - Input tensor\n",
    " - Initial state for each element in the batch\n",
    " \n",
    "Each character in the sequence is a one hot vector, so the entire sequence is represente as a matrix and batch is a 3D tensor with shape $(N,L,H_{in})$\n",
    "\n",
    "Initial state for each sequence is a 1D vector so initial hidden state for all elements in the batch is a matrix with shape $(1, N, H_{out})$.\n",
    "\n",
    "Where\n",
    "\n",
    " - $N$ - batch size\n",
    " - $L$ - length of the sequence\n",
    " - $H_{in}$ - size of the input (size of the one hot vector)\n",
    " - $H_{out}$ - size of the hidden state vector.\n",
    "\n",
    "Here is the implementation of the model:"
   ]
  },
  {
   "cell_type": "code",
   "execution_count": 16,
   "id": "1182be92-fe80-4a55-a864-b98256c6afa1",
   "metadata": {},
   "outputs": [],
   "source": [
    "class RNN(nn.Module):\n",
    "    def __init__(self, hidden_state_size, vocab_size,\n",
    "                 device, **kwargs):\n",
    "        super(RNN, self).__init__(**kwargs)\n",
    "        \n",
    "        self.hidden_state_size = hidden_state_size\n",
    "        self.vocab_size = vocab_size\n",
    "        self.device = device\n",
    "        \n",
    "        self.recursive_layer = nn.RNN(vocab_size, hidden_state_size)\n",
    "        self.classifier_layer = nn.Linear(hidden_state_size, vocab_size)\n",
    "    \n",
    "    def forward(self, inputs, initial_state):\n",
    "        X = torch_fn.one_hot(inputs.T.long(), self.vocab_size)\n",
    "        X = X.to(torch.float32)\n",
    "        Y, state = self.recursive_layer(X, initial_state)\n",
    "        \n",
    "        # The fully connected layer will first change the shape of `Y` to\n",
    "        # (`num_steps` * `batch_size`, `num_hiddens`). Its output shape is\n",
    "        # (`num_steps` * `batch_size`, `vocab_size`).\n",
    "        \n",
    "        output = self.classifier_layer(Y.reshape((-1, Y.shape[-1])))\n",
    "        return output, state\n",
    "        \n",
    "    def gen_initial_state(self, batch_size):\n",
    "        return torch.zeros((1, batch_size, self.hidden_state_size),\n",
    "                           device=self.device)"
   ]
  },
  {
   "cell_type": "code",
   "execution_count": 17,
   "id": "efb310cd-492f-44dd-8452-856b12285c4d",
   "metadata": {},
   "outputs": [],
   "source": [
    "net = RNN(256, vocab.size, device)\n",
    "net = net.to(device)"
   ]
  },
  {
   "cell_type": "code",
   "execution_count": 18,
   "id": "7be11ad1-b0e0-4481-bfc0-04bac89eafdf",
   "metadata": {},
   "outputs": [],
   "source": [
    "initial_state = net.gen_initial_state(256)"
   ]
  },
  {
   "cell_type": "code",
   "execution_count": 19,
   "id": "aa3b2928-22b2-4a0c-8d52-4d938ae27373",
   "metadata": {},
   "outputs": [],
   "source": [
    "data_loader = SeqDataLoader(dataset, 256, 40, device)\n",
    "x,y = next(iter(data_loader))\n",
    "\n",
    "output, state = net(x, initial_state)"
   ]
  },
  {
   "cell_type": "code",
   "execution_count": 20,
   "id": "2054d8de-b421-4062-9d45-930e9b949be6",
   "metadata": {},
   "outputs": [
    {
     "data": {
      "text/plain": [
       "torch.Size([10240, 37])"
      ]
     },
     "execution_count": 20,
     "metadata": {},
     "output_type": "execute_result"
    }
   ],
   "source": [
    "output.shape"
   ]
  },
  {
   "cell_type": "code",
   "execution_count": 21,
   "id": "1d25697f-634e-4621-b09c-36f3084d3b22",
   "metadata": {},
   "outputs": [
    {
     "data": {
      "text/plain": [
       "tensor([[ 0.0214,  0.0520, -0.0006,  ...,  0.0913, -0.0288,  0.0770],\n",
       "        [ 0.0307,  0.0142,  0.0011,  ...,  0.1044, -0.0492,  0.0496],\n",
       "        [ 0.0307,  0.0142,  0.0011,  ...,  0.1044, -0.0492,  0.0496],\n",
       "        ...,\n",
       "        [ 0.0148, -0.0120, -0.0188,  ...,  0.1389, -0.0346,  0.0626],\n",
       "        [ 0.0583, -0.0299,  0.0256,  ...,  0.1404, -0.0290,  0.0635],\n",
       "        [ 0.0431,  0.0043, -0.0095,  ...,  0.1083, -0.0526,  0.0646]],\n",
       "       device='cuda:0', grad_fn=<AddmmBackward>)"
      ]
     },
     "execution_count": 21,
     "metadata": {},
     "output_type": "execute_result"
    }
   ],
   "source": [
    "output"
   ]
  },
  {
   "cell_type": "code",
   "execution_count": 22,
   "id": "8ec6e99a-4eb9-4afd-9106-089d380d339a",
   "metadata": {},
   "outputs": [
    {
     "data": {
      "text/plain": [
       "torch.Size([256, 40])"
      ]
     },
     "execution_count": 22,
     "metadata": {},
     "output_type": "execute_result"
    }
   ],
   "source": [
    "y.shape"
   ]
  },
  {
   "cell_type": "markdown",
   "id": "5c29b1d4-d0f4-4370-89e6-34d4023f78e8",
   "metadata": {},
   "source": [
    "10240 comes from the fact that we now have all sequences in batches in order as a one big sequence to simplify the use of the output.\n",
    "Each row is a vector of logits of probabilities that a character will be next element in the sequence."
   ]
  },
  {
   "cell_type": "markdown",
   "id": "d4625ea8-8a30-4d0e-9b28-7fe4e1a28200",
   "metadata": {},
   "source": [
    "## Making predictions\n",
    "\n",
    "Now let's build a function that will allow us to make predictions by first running the provided string throught the model to \"warm it up\" and then feeding the output into the input of the network and propagating the state to generate new data."
   ]
  },
  {
   "cell_type": "code",
   "execution_count": 23,
   "id": "7f05f75c-2a17-4528-97ee-b3e173fcff2a",
   "metadata": {},
   "outputs": [],
   "source": [
    "def gen_predictions(net, device, vocabulary, input_str, preds_count):\n",
    "    torch.set_grad_enabled(False)\n",
    "    tokens = [token for token in input_str]\n",
    "    indexes = vocabulary.tokens_to_indexes(tokens)\n",
    "    net_input = torch.tensor(indexes, dtype=torch.int16, device=device)\n",
    "    net_input = net_input.expand(1, -1)\n",
    "    initial_state = net.gen_initial_state(1)\n",
    "    \n",
    "    # Warm up with the provided string.\n",
    "    outputs, state = net(net_input, initial_state)\n",
    "    \n",
    "    get_idx = lambda logits: logits.argmax().expand(1, 1)\n",
    "    to_token = lambda idx_tensor: int(idx_tensor[0][0].cpu())\n",
    "    \n",
    "    # Get output\n",
    "    last_index = get_idx(outputs[-1:])\n",
    "    \n",
    "    # Generate new result.\n",
    "    output_tokens = [to_token(last_index)]\n",
    "    \n",
    "    for _ in range(preds_count):\n",
    "        outputs, state = net(last_index, state)\n",
    "        last_index = get_idx(outputs)\n",
    "        output_tokens.extend([to_token(last_index)])\n",
    "    \n",
    "    output_chars = vocabulary.indexes_to_tokens(output_tokens)\n",
    "    \n",
    "    for char in output_chars:\n",
    "        input_str += char\n",
    "    \n",
    "    torch.set_grad_enabled(True)\n",
    "    \n",
    "    return input_str\n",
    "    "
   ]
  },
  {
   "cell_type": "code",
   "execution_count": 24,
   "id": "66623606-0f05-42ed-b0e5-c871fe8a81ed",
   "metadata": {},
   "outputs": [
    {
     "data": {
      "text/plain": [
       "'journey8zzzzzzzzzzzzzzzzzzzzzzzzzzzzzzzzzzzzzzzzzzzzzzzzzzzzzzzzzzzzzzzzzzzzzzzzzzzzzzzz'"
      ]
     },
     "execution_count": 24,
     "metadata": {},
     "output_type": "execute_result"
    }
   ],
   "source": [
    "gen_predictions(net, device, vocab, \"journey\", 80)"
   ]
  },
  {
   "cell_type": "markdown",
   "id": "79d5f658-c761-419f-90b1-10bfb3191aeb",
   "metadata": {},
   "source": [
    "As expected untrained network is not doing well. Now let's train it."
   ]
  },
  {
   "attachments": {
    "ecdfa77f-614c-476a-9b6a-91bd8789c129.png": {
     "image/png": "[encoded data removed]"
    }
   },
   "cell_type": "markdown",
   "id": "7b458dfb-26b3-4278-862d-4a944b954e9c",
   "metadata": {},
   "source": [
    "## Perplexity\n",
    "\n",
    "But first we will create a metric that will tell us how well the model is doing so we can monitor this metric during training.\n",
    "The standard quantity used for language models is called perplexity and it is defined by the following formula:\n",
    "\n",
    "![image.png](attachment:ecdfa77f-614c-476a-9b6a-91bd8789c129.png)\n",
    "\n",
    "Perplexity can be best understood as the harmonic mean of the number of real choices that we have when deciding which token to pick next. Let us look at a number of cases:\n",
    "\n",
    " - In the best case scenario, the model always perfectly estimates the probability of the label token as 1. In this case the perplexity of the model is 1.\n",
    " - In the worst case scenario, the model always predicts the probability of the label token as 0. In this situation, the perplexity is positive infinity.\n",
    " - At the baseline, the model predicts a uniform distribution over all the available tokens of the vocabulary. In this case, the perplexity equals the number of unique tokens of the    vocabulary. In fact, if we were to store the sequence without any compression, this would be the best we could do to encode it. Hence, this provides a nontrivial upper bound that    any useful model must beat.\n",
    "\n"
   ]
  },
  {
   "cell_type": "markdown",
   "id": "eed28096-5f1d-41bf-ae6f-05cc556bfe31",
   "metadata": {},
   "source": [
    "## Training loop\n",
    "\n",
    "Training loop will look similar to other networks but it has two major differences\n",
    "\n",
    "First difference is the fact that we need to somehow handle internal state. Because we are using Sequential Partitioning we are going to initialize internal state at the beginning of each epoch and then preseve it between minibatches. This means that we will need to detach the internal state from the computational graph otherwise graph will continue to grow as we compute more and more minibatches.\n",
    "\n",
    "Second difference is the fact that we will need to somehow address the problem of exploding gradients. The effective size of the network is very deep. The depth is going to be equal to the sequence length. This will almost certanly cause exploding gradients problem and result in numerical instability of the optimization proces.\n",
    "\n",
    "To fix this when norm of the gradient will exceed certain threshold we will normalize gradient value to a multidimensional sphere of size equal that threshold. This will keep the direction of the update but will prevent large update of the parameter.\n",
    "\n",
    "Here is the function for performing gradient clipping."
   ]
  },
  {
   "cell_type": "code",
   "execution_count": 25,
   "id": "0e40eff0-4c65-457e-a72e-effcf551aa69",
   "metadata": {},
   "outputs": [],
   "source": [
    "def clip_gradients(model, threshold):\n",
    "    params = [p for p in model.parameters() if p.requires_grad]\n",
    "    norm = torch.sqrt(sum(torch.sum((p.grad**2)) for p in params))\n",
    "    if norm > threshold:\n",
    "        for param in params:\n",
    "            param.grad[:] *= threshold / norm"
   ]
  },
  {
   "cell_type": "markdown",
   "id": "8e753c3e-b91e-44ec-8668-d279defc35c2",
   "metadata": {},
   "source": [
    "And here is the training loop.\n",
    "\n",
    "For the loss function we will use cross entropy loss since we want to maximize the probability that predictions of next characters are correct.\n",
    "For optimizer we will use SGD."
   ]
  },
  {
   "cell_type": "code",
   "execution_count": 26,
   "id": "829860d6-66d4-471b-90bd-b67f392d0a91",
   "metadata": {},
   "outputs": [],
   "source": [
    "def train_model(net, dataset, optimizer, batch_size, seq_len, epochs):\n",
    "    loss = nn.CrossEntropyLoss()\n",
    "    data_loader = SeqDataLoader(dataset, batch_size, seq_len, device)\n",
    "    \n",
    "    loss_history = []\n",
    "    perplexity_history = []\n",
    "    for epoch in tqdm(range(epochs)):\n",
    "        state = None\n",
    "        \n",
    "        total_loss = 0.\n",
    "        total_sample_number = 0\n",
    "        for X,Y in data_loader:\n",
    "            if state is None:\n",
    "                state = net.gen_initial_state(batch_size)\n",
    "            else:\n",
    "                state.detach_()\n",
    "            \n",
    "            y_hat, state = net(X, state)\n",
    "        \n",
    "            # Loss will be computed for each sequence we compute mean loss\n",
    "            # across all sentences.\n",
    "            y = Y.T.reshape(-1)\n",
    "            l = loss(y_hat, y.long()).mean()\n",
    "            \n",
    "            optimizer.zero_grad()\n",
    "            l.backward()\n",
    "            clip_gradients(net, 1)\n",
    "            optimizer.step()\n",
    "            \n",
    "            with torch.no_grad():\n",
    "                total_loss += l.cpu() * y.cpu().numel()\n",
    "                total_sample_number += y.cpu().numel()\n",
    "        \n",
    "        loss_avg = total_loss / total_sample_number\n",
    "        perplexity_avg = math.exp(loss_avg)\n",
    "        loss_history.append(loss_avg)\n",
    "        perplexity_history.append(perplexity_avg)\n",
    "        \n",
    "    return {\"loss\": loss_history, \"perplexity\": perplexity_history}"
   ]
  },
  {
   "cell_type": "code",
   "execution_count": 27,
   "id": "d0a77a7b-4dd4-4edf-ba75-18dcf0270735",
   "metadata": {},
   "outputs": [
    {
     "data": {
      "application/vnd.jupyter.widget-view+json": {
       "model_id": "127c2f96c0154f1387ef4caee2455327",
       "version_major": 2,
       "version_minor": 0
      },
      "text/plain": [
       "  0%|          | 0/200 [00:00<?, ?it/s]"
      ]
     },
     "metadata": {},
     "output_type": "display_data"
    }
   ],
   "source": [
    "lr = 1\n",
    "batch_size = 256\n",
    "sequence_len = 40\n",
    "epochs = 200\n",
    "\n",
    "net = RNN(512, vocab.size, device)\n",
    "net = net.to(device)\n",
    "optimizer = torch.optim.SGD(net.parameters(), lr)\n",
    "\n",
    "history = train_model(net, dataset, optimizer, batch_size, sequence_len, epochs)"
   ]
  },
  {
   "cell_type": "code",
   "execution_count": 28,
   "id": "fe546d7a-f0bf-4014-a8d5-c6b17c9f5840",
   "metadata": {},
   "outputs": [
    {
     "data": {
      "text/plain": [
       "Text(0, 0.5, 'loss')"
      ]
     },
     "execution_count": 28,
     "metadata": {},
     "output_type": "execute_result"
    },
    {
     "data": {
      "image/png": "[encoded data removed]",
      "text/plain": [
       "<Figure size 432x288 with 1 Axes>"
      ]
     },
     "metadata": {
      "needs_background": "light"
     },
     "output_type": "display_data"
    }
   ],
   "source": [
    "plt.title(\"Loss history\")\n",
    "plt.plot(history[\"loss\"])\n",
    "plt.xlabel(\"epoch\")\n",
    "plt.ylabel(\"loss\")"
   ]
  },
  {
   "cell_type": "code",
   "execution_count": 29,
   "id": "a964d648-b00d-4209-85f0-1f7846aa8cbf",
   "metadata": {},
   "outputs": [
    {
     "data": {
      "text/plain": [
       "Text(0, 0.5, 'perplexity')"
      ]
     },
     "execution_count": 29,
     "metadata": {},
     "output_type": "execute_result"
    },
    {
     "data": {
      "image/png": "[encoded data removed]",
      "text/plain": [
       "<Figure size 432x288 with 1 Axes>"
      ]
     },
     "metadata": {
      "needs_background": "light"
     },
     "output_type": "display_data"
    }
   ],
   "source": [
    "plt.title(\"Perplexity history\")\n",
    "plt.plot(history[\"perplexity\"])\n",
    "plt.xlabel(\"epoch\")\n",
    "plt.ylabel(\"perplexity\")"
   ]
  },
  {
   "cell_type": "markdown",
   "id": "40feacc3-c7bb-46b3-a651-93ff49c44ed8",
   "metadata": {},
   "source": [
    "## Some examples and conclusions\n",
    "\n",
    "Now let's have some fun and give network diferent sentences to extend."
   ]
  },
  {
   "cell_type": "code",
   "execution_count": 30,
   "id": "6ee498a4-75af-43de-9a8b-e49aff15826c",
   "metadata": {},
   "outputs": [
    {
     "data": {
      "text/plain": [
       "'journey to the sea and in the streets and strange and and at a dread and said had and made a great deal of the sea and in the streets and strange and and at a dread and said had and made a great deal of the sea and '"
      ]
     },
     "execution_count": 30,
     "metadata": {},
     "output_type": "execute_result"
    }
   ],
   "source": [
    "gen_predictions(net, device, vocab, \"journey to the\", 200)"
   ]
  },
  {
   "cell_type": "code",
   "execution_count": 43,
   "id": "b406ccec-68e8-4117-b11c-9e4a06148d19",
   "metadata": {},
   "outputs": [
    {
     "data": {
      "text/plain": [
       "'before starting afresh i thought a wash would do me good and made him and was not a strange and and at a crew of a sure of the strength with such a man who had been able to see in the stream of a sume and in a few moments of a great deal of silence said cyr'"
      ]
     },
     "execution_count": 43,
     "metadata": {},
     "output_type": "execute_result"
    }
   ],
   "source": [
    "gen_predictions(net, device, vocab, \"before starting afresh i thought a wash would do me good\", 200)"
   ]
  },
  {
   "cell_type": "code",
   "execution_count": 38,
   "id": "d3025ff5-bded-425b-bbd0-5dd328c19411",
   "metadata": {},
   "outputs": [
    {
     "data": {
      "text/plain": [
       "'towards four oclock said my uncle and in a few moments of a few moments of a great deal of silence said cyrus harding and his companions had already all that is to see a vast clouds in a strange and and at a crew of a se'"
      ]
     },
     "execution_count": 38,
     "metadata": {},
     "output_type": "execute_result"
    }
   ],
   "source": [
    "gen_predictions(net, device, vocab, \"towards four oclock\", 200)"
   ]
  },
  {
   "cell_type": "code",
   "execution_count": 39,
   "id": "6eee33c6-b893-45bc-9ea7-164e2bf4faba",
   "metadata": {},
   "outputs": [
    {
     "data": {
      "text/plain": [
       "'captain nemo had been struck with a strange and and at a crew of a sure of the strength with such a man who had been able to see in the stream of a sume and in a few moments of a great deal of silence said cyrus h'"
      ]
     },
     "execution_count": 39,
     "metadata": {},
     "output_type": "execute_result"
    }
   ],
   "source": [
    "gen_predictions(net, device, vocab, \"captain nemo\", 200)"
   ]
  },
  {
   "cell_type": "markdown",
   "id": "203567d9-60d3-419b-afef-53c1377bc383",
   "metadata": {},
   "source": [
    "As we can see AI learned to generate words and some basic language structures quite well but it does not have the ability to generate coherent sentences.\n",
    "\n",
    "Interesting observation is RNN can overfit like any other neural network. When that happens it will start to generate very similar sentences in response to different starting sequences. It also tends to gravitate towards certain sentences.\n",
    "\n",
    "Another interesting observation is that network can get stuck and start to generate the same sentence over and over again."
   ]
  }
 ],
 "metadata": {
  "kernelspec": {
   "display_name": "Python 3",
   "language": "python",
   "name": "python3"
  },
  "language_info": {
   "codemirror_mode": {
    "name": "ipython",
    "version": 3
   },
   "file_extension": ".py",
   "mimetype": "text/x-python",
   "name": "python",
   "nbconvert_exporter": "python",
   "pygments_lexer": "ipython3",
   "version": "3.9.6"
  }
 },
 "nbformat": 4,
 "nbformat_minor": 5
}
